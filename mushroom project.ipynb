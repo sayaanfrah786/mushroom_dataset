{
 "cells": [
  {
   "cell_type": "code",
   "execution_count": null,
   "metadata": {},
   "outputs": [],
   "source": [
    "pip install streamlit"
   ]
  },
  {
   "cell_type": "code",
   "execution_count": null,
   "metadata": {},
   "outputs": [],
   "source": [
    "import streamlit as st\n",
    "import pandas as pd\n",
    "import numpy as np\n",
    "from sklearn.svm import SVC\n",
    "from sklearn.linear_model import LogisticRegression\n",
    "from sklearn.ensemble import RandomForestClassifier\n",
    "from sklearn.preprocessing import LabelEncoder\n",
    "from sklearn.model_selection import train_test_split\n",
    "from sklearn.metrics import plot_confusion_matrix, plot_roc_curve, plot_precision_recall_curve\n",
    "from sklearn.metrics import precision_score, recall_score"
   ]
  },
  {
   "cell_type": "code",
   "execution_count": null,
   "metadata": {},
   "outputs": [],
   "source": [
    "def main():\n",
    "    st.title(\"Binary Classification Web App\")\n",
    "    st.sidebar.title(\"Binary Classification Web App\")\n",
    "    st.markdown(\"Are your mushrooms edible or poisonous? \")\n",
    "    st.sidebar.markdown(\"Are your mushrooms edible or poisonous? \")\n"
   ]
  },
  {
   "cell_type": "code",
   "execution_count": null,
   "metadata": {},
   "outputs": [],
   "source": [
    "@st.cache(persist=True)\n",
    "def load_data():\n",
    "    data = pd.read_csv(\"path\\\\to\\\\mushrooms.csv\")\n",
    "    labelencoder=LabelEncoder()\n",
    "    for col in data.columns:\n",
    "        data[col] = labelencoder.fit_transform(data[col])\n",
    "        return data"
   ]
  },
  {
   "cell_type": "code",
   "execution_count": null,
   "metadata": {},
   "outputs": [],
   "source": [
    "def plot_metrics(metrics_list):\n",
    "    if 'Confusion Matrix' in metrics_list:\n",
    "            st.subheader(\"Confusion Matrix\")\n",
    "            plot_confusion_matrix(model, x_test, y_test, display_labels=class_names)\n",
    "            st.pyplot()"
   ]
  },
  {
   "cell_type": "code",
   "execution_count": null,
   "metadata": {},
   "outputs": [],
   "source": [
    " if 'ROC Curve' in metrics_list:\n",
    "            st.subheader(\"ROC Curve\")\n",
    "            plot_roc_curve(model, x_test, y_test)\n",
    "            st.pyplot()"
   ]
  },
  {
   "cell_type": "code",
   "execution_count": null,
   "metadata": {},
   "outputs": [],
   "source": [
    " if 'Precision-Recall Curve' in metrics_list:\n",
    "            st.subheader('Precision-Recall Curve')\n",
    "            plot_precision_recall_curve(model, x_test, y_test)\n",
    "            st.pyplot()"
   ]
  },
  {
   "cell_type": "code",
   "execution_count": null,
   "metadata": {},
   "outputs": [],
   "source": [
    " df = load_data()\n",
    "    class_names = ['edible', 'poisonous']\n",
    "    \n",
    "    x_train, x_test, y_train, y_test = split(df)\n",
    "\n",
    "    st.sidebar.subheader(\"Choose Classifier\")\n",
    "    classifier = st.sidebar.selectbox(\"Classifier\", (\"Support Vector Machine (SVM)\", \"Logistic Regression\", \"Random Forest\"))\n",
    "\n",
    "    if classifier == 'Support Vector Machine (SVM)':\n",
    "        st.sidebar.subheader(\"Model Hyperparameters\")\n",
    "        #choose parameters\n",
    "        C = st.sidebar.number_input(\"C (Regularization parameter)\", 0.01, 10.0, step=0.01, key='C_SVM')\n",
    "        kernel = st.sidebar.radio(\"Kernel\", (\"rbf\", \"linear\"), key='kernel')\n",
    "        gamma = st.sidebar.radio(\"Gamma (Kernel Coefficient)\", (\"scale\", \"auto\"), key='gamma')\n",
    "\n",
    "        metrics = st.sidebar.multiselect(\"What metrics to plot?\", ('Confusion Matrix', 'ROC Curve', 'Precision-Recall Curve'))"
   ]
  },
  {
   "cell_type": "code",
   "execution_count": null,
   "metadata": {},
   "outputs": [],
   "source": [
    "  if st.sidebar.button(\"Classify\", key='classify'):\n",
    "            st.subheader(\"Support Vector Machine (SVM) Results\")\n",
    "            model = SVC(C=C, kernel=kernel, gamma=gamma)\n",
    "            model.fit(x_train, y_train)\n",
    "            accuracy = model.score(x_test, y_test)\n",
    "            y_pred = model.predict(x_test)\n",
    "            st.write(\"Accuracy: \", accuracy.round(2))\n",
    "            st.write(\"Precision: \", precision_score(y_test, y_pred, labels=class_names).round(2))\n",
    "            st.write(\"Recall: \", recall_score(y_test, y_pred, labels=class_names).round(2))\n",
    "            plot_metrics(metrics)"
   ]
  },
  {
   "cell_type": "code",
   "execution_count": null,
   "metadata": {},
   "outputs": [],
   "source": [
    "  if classifier == 'Logistic Regression':\n",
    "        st.sidebar.subheader(\"Model Hyperparameters\")\n",
    "        C = st.sidebar.number_input(\"C (Regularization parameter)\", 0.01, 10.0, step=0.01, key='C_LR')\n",
    "        max_iter = st.sidebar.slider(\"Maximum number of iterations\", 100, 500, key='max_iter')\n",
    "\n",
    "        metrics = st.sidebar.multiselect(\"What metrics to plot?\", ('Confusion Matrix', 'ROC Curve', 'Precision-Recall Curve'))\n"
   ]
  },
  {
   "cell_type": "code",
   "execution_count": null,
   "metadata": {},
   "outputs": [],
   "source": [
    "if st.sidebar.button(\"Classify\", key='classify'):\n",
    "            st.subheader(\"Logistic Regression Results\")\n",
    "            model = LogisticRegression(C=C, penalty='l2', max_iter=max_iter)\n",
    "            model.fit(x_train, y_train)\n",
    "            accuracy = model.score(x_test, y_test)\n",
    "            y_pred = model.predict(x_test)\n",
    "            st.write(\"Accuracy: \", accuracy.round(2))\n",
    "            st.write(\"Precision: \", precision_score(y_test, y_pred, labels=class_names).round(2))\n",
    "            st.write(\"Recall: \", recall_score(y_test, y_pred, labels=class_names).round(2))\n",
    "            plot_metrics(metrics)"
   ]
  },
  {
   "cell_type": "code",
   "execution_count": null,
   "metadata": {},
   "outputs": [],
   "source": [
    "if classifier == 'Random Forest':\n",
    "        st.sidebar.subheader(\"Model Hyperparameters\")\n",
    "        n_estimators = st.sidebar.number_input(\"The number of trees in the forest\", 100, 5000, step=10, key='n_estimators')\n",
    "        max_depth = st.sidebar.number_input(\"The maximum depth of the tree\", 1, 20, step=1, key='n_estimators')\n",
    "        bootstrap = st.sidebar.radio(\"Bootstrap samples when building trees\", ('True', 'False'), key='bootstrap')\n",
    "        metrics = st.sidebar.multiselect(\"What metrics to plot?\", ('Confusion Matrix', 'ROC Curve', 'Precision-Recall Curve'))"
   ]
  },
  {
   "cell_type": "code",
   "execution_count": null,
   "metadata": {},
   "outputs": [],
   "source": [
    "  if st.sidebar.button(\"Classify\", key='classify'):\n",
    "            st.subheader(\"Random Forest Results\")\n",
    "            model = RandomForestClassifier(n_estimators=n_estimators, max_depth=max_depth, bootstrap=bootstrap, n_jobs=-1)\n",
    "            model.fit(x_train, y_train)\n",
    "            accuracy = model.score(x_test, y_test)\n",
    "            y_pred = model.predict(x_test)\n",
    "            st.write(\"Accuracy: \", accuracy.round(2))\n",
    "            st.write(\"Precision: \", precision_score(y_test, y_pred, labels=class_names).round(2))\n",
    "            st.write(\"Recall: \", recall_score(y_test, y_pred, labels=class_names).round(2))\n",
    "            plot_metrics(metrics)"
   ]
  },
  {
   "cell_type": "code",
   "execution_count": null,
   "metadata": {},
   "outputs": [],
   "source": [
    " if st.sidebar.checkbox(\"Show raw data\", False):\n",
    "        st.subheader(\"Mushroom Data Set (Classification)\")\n",
    "        st.write(df)\n",
    "        st.markdown(\"This [data set](https://archive.ics.uci.edu/ml/datasets/Mushroom) includes descriptions of hypothetical samples corresponding to 23 species of gilled mushrooms \"\n",
    "        \"in the Agaricus and Lepiota Family (pp. 500-525). Each species is identified as definitely edible, definitely poisonous, \"\n",
    "        \"or of unknown edibility and not recommended. This latter class was combined with the poisonous one.\")\n",
    "\n",
    "if __name__ == '__main__':\n",
    "    main()"
   ]
  },
  {
   "cell_type": "code",
   "execution_count": null,
   "metadata": {},
   "outputs": [],
   "source": []
  }
 ],
 "metadata": {
  "kernelspec": {
   "display_name": "Python 3",
   "language": "python",
   "name": "python3"
  },
  "language_info": {
   "codemirror_mode": {
    "name": "ipython",
    "version": 3
   },
   "file_extension": ".py",
   "mimetype": "text/x-python",
   "name": "python",
   "nbconvert_exporter": "python",
   "pygments_lexer": "ipython3",
   "version": "3.8.3"
  }
 },
 "nbformat": 4,
 "nbformat_minor": 4
}
